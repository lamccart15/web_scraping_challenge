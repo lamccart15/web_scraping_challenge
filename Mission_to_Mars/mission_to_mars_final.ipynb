{
 "cells": [
  {
   "cell_type": "code",
   "execution_count": 1,
   "metadata": {},
   "outputs": [],
   "source": [
    "# import dependencies\n",
    "import os\n",
    "from bs4 import BeautifulSoup as bs\n",
    "import requests\n",
    "import pymongo\n",
    "from splinter import Browser\n",
    "from webdriver_manager.chrome import ChromeDriverManager\n",
    "import pandas as pd"
   ]
  },
  {
   "cell_type": "code",
   "execution_count": 2,
   "metadata": {},
   "outputs": [
    {
     "name": "stderr",
     "output_type": "stream",
     "text": [
      "\n",
      "\n",
      "====== WebDriver manager ======\n",
      "Current google-chrome version is 90.0.4430\n",
      "Get LATEST driver version for 90.0.4430\n",
      "Driver [C:\\Users\\lamcc\\.wdm\\drivers\\chromedriver\\win32\\90.0.4430.24\\chromedriver.exe] found in cache\n"
     ]
    }
   ],
   "source": [
    "# Setup Splinter\n",
    "executable_path={'executable_path': ChromeDriverManager().install()}\n",
    "browser=Browser('chrome', **executable_path, headless=False)"
   ]
  },
  {
   "cell_type": "code",
   "execution_count": 3,
   "metadata": {},
   "outputs": [
    {
     "name": "stdout",
     "output_type": "stream",
     "text": [
      "NASA to Reveal Name of Its Next Mars Rover\n",
      "---------------\n",
      "After a months-long contest among students to name NASA's newest Mars rover, the agency will reveal the winning name — and the winning student — this Thursday. \n"
     ]
    }
   ],
   "source": [
    "# URL to scrape Mars news site\n",
    "url= \"https://redplanetscience.com/\"\n",
    "\n",
    "# Connect to browser to collect html data\n",
    "browser.visit(url)\n",
    "html=browser.html\n",
    "\n",
    "# Create BeautifulSoup object \n",
    "soup=bs(html, 'html.parser')\n",
    "\n",
    "# Extract latest News Title and Paragraph Text\n",
    "news_title = soup.find_all('div', class_='content_title')[0].text\n",
    "news_p = soup.find_all('div', class_='article_teaser_body')[0].text\n",
    "print(news_title)\n",
    "print(\"---------------\")\n",
    "print(news_p)"
   ]
  },
  {
   "cell_type": "code",
   "execution_count": 4,
   "metadata": {},
   "outputs": [
    {
     "name": "stdout",
     "output_type": "stream",
     "text": [
      "https://spaceimages-mars.com/image/featured/mars3.jpg\n"
     ]
    }
   ],
   "source": [
    "# URL to scrape JPL Mars Space Imaged site\n",
    "jpl_url= \"https://spaceimages-mars.com/\"\n",
    "\n",
    "# Connect to browser to collect html data\n",
    "browser.visit(jpl_url)\n",
    "html=browser.html\n",
    "\n",
    "# Create BeautifulSoup object \n",
    "soup=bs(html, 'html.parser')\n",
    "\n",
    "# Extract image URL for current Featured Mars Image\n",
    "featured_image_url = soup.find('img', class_=\"headerimage fade-in\").get('src')\n",
    "\n",
    "# Combine url components to print full url string\n",
    "full_featured_image_url = jpl_url + featured_image_url\n",
    "print(full_featured_image_url)"
   ]
  },
  {
   "cell_type": "code",
   "execution_count": 5,
   "metadata": {},
   "outputs": [],
   "source": [
    "# URL to scrape Mars Fact Table\n",
    "facts_url= \"https://galaxyfacts-mars.com\"\n",
    "\n",
    "# Read in table\n",
    "table=pd.read_html(facts_url)\n",
    "table\n",
    "\n",
    "# Create dataframe\n",
    "facts_df=table[1]\n",
    "\n",
    "# Rename columns\n",
    "facts_df.rename(columns={0:\"Feature\", 1: \"Measurement\"}, inplace=True)\n",
    "\n",
    "# Output HTML to file\n",
    "mars_facts = facts_df.to_html('mars.html', index=False, justify='center')"
   ]
  },
  {
   "cell_type": "code",
   "execution_count": null,
   "metadata": {},
   "outputs": [],
   "source": []
  }
 ],
 "metadata": {
  "kernelspec": {
   "display_name": "Python [conda env:PythonData] *",
   "language": "python",
   "name": "conda-env-PythonData-py"
  },
  "language_info": {
   "codemirror_mode": {
    "name": "ipython",
    "version": 3
   },
   "file_extension": ".py",
   "mimetype": "text/x-python",
   "name": "python",
   "nbconvert_exporter": "python",
   "pygments_lexer": "ipython3",
   "version": "3.6.10"
  }
 },
 "nbformat": 4,
 "nbformat_minor": 4
}
