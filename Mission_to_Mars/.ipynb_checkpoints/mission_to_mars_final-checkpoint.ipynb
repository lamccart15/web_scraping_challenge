{
 "cells": [
  {
   "cell_type": "code",
   "execution_count": 29,
   "metadata": {},
   "outputs": [],
   "source": [
    "# import dependencies\n",
    "import os\n",
    "from bs4 import BeautifulSoup as bs\n",
    "import requests\n",
    "import pymongo\n",
    "from splinter import Browser\n",
    "from webdriver_manager.chrome import ChromeDriverManager\n",
    "import pandas as pd"
   ]
  },
  {
   "cell_type": "code",
   "execution_count": 30,
   "metadata": {},
   "outputs": [
    {
     "name": "stderr",
     "output_type": "stream",
     "text": [
      "\n",
      "\n",
      "====== WebDriver manager ======\n",
      "Current google-chrome version is 90.0.4430\n",
      "Get LATEST driver version for 90.0.4430\n",
      "Driver [C:\\Users\\lamcc\\.wdm\\drivers\\chromedriver\\win32\\90.0.4430.24\\chromedriver.exe] found in cache\n"
     ]
    }
   ],
   "source": [
    "# Setup Splinter\n",
    "executable_path={'executable_path': ChromeDriverManager().install()}\n",
    "browser=Browser('chrome', **executable_path, headless=False)"
   ]
  },
  {
   "cell_type": "code",
   "execution_count": 31,
   "metadata": {},
   "outputs": [
    {
     "name": "stdout",
     "output_type": "stream",
     "text": [
      "3 Things We've Learned From NASA's Mars InSight \n",
      "---------------\n",
      "Scientists are finding new mysteries since the geophysics mission landed two years ago.\n"
     ]
    }
   ],
   "source": [
    "# URL to scrape Mars news site\n",
    "url= \"https://redplanetscience.com/\"\n",
    "\n",
    "# Connect to browser to collect html data\n",
    "browser.visit(url)\n",
    "html=browser.html\n",
    "\n",
    "# Create BeautifulSoup object \n",
    "soup=bs(html, 'html.parser')\n",
    "\n",
    "# Extract latest News Title and Paragraph Text\n",
    "news_title = soup.find_all('div', class_='content_title')[0].text\n",
    "news_p = soup.find_all('div', class_='article_teaser_body')[0].text\n",
    "print(news_title)\n",
    "print(\"---------------\")\n",
    "print(news_p)"
   ]
  },
  {
   "cell_type": "code",
   "execution_count": 32,
   "metadata": {},
   "outputs": [
    {
     "name": "stdout",
     "output_type": "stream",
     "text": [
      "https://spaceimages-mars.com/image/featured/mars3.jpg\n"
     ]
    }
   ],
   "source": [
    "# URL to scrape JPL Mars Space Imaged site\n",
    "jpl_url= \"https://spaceimages-mars.com/\"\n",
    "\n",
    "# Connect to browser to collect html data\n",
    "browser.visit(jpl_url)\n",
    "html=browser.html\n",
    "\n",
    "# Create BeautifulSoup object \n",
    "soup=bs(html, 'html.parser')\n",
    "\n",
    "# Extract image URL for current Featured Mars Image\n",
    "featured_image_url = soup.find('img', class_=\"headerimage fade-in\").get('src')\n",
    "\n",
    "# Combine url components to print full url string\n",
    "full_featured_image_url = jpl_url + featured_image_url\n",
    "print(full_featured_image_url)"
   ]
  },
  {
   "cell_type": "code",
   "execution_count": 33,
   "metadata": {},
   "outputs": [],
   "source": [
    "# URL to scrape Mars Fact Table\n",
    "facts_url= \"https://galaxyfacts-mars.com\"\n",
    "\n",
    "# Read in table\n",
    "table=pd.read_html(facts_url)\n",
    "table\n",
    "\n",
    "# Create dataframe\n",
    "facts_df=table[1]\n",
    "\n",
    "# Rename columns\n",
    "facts_df.rename(columns={0:\"Feature\", 1: \"Measurement\"}, inplace=True)\n",
    "\n",
    "# Generate HTML\n",
    "html_table=facts_df.to_html()\n",
    "html_table.replace('\\n', '')\n",
    "\n",
    "# Output HTML to file\n",
    "facts_df.to_html('mars.html', index=False, justify='center')"
   ]
  },
  {
   "cell_type": "code",
   "execution_count": 35,
   "metadata": {},
   "outputs": [
    {
     "ename": "AttributeError",
     "evalue": "'NoneType' object has no attribute 'get'",
     "output_type": "error",
     "traceback": [
      "\u001b[1;31m---------------------------------------------------------------------------\u001b[0m",
      "\u001b[1;31mAttributeError\u001b[0m                            Traceback (most recent call last)",
      "\u001b[1;32m<ipython-input-35-5929d2276592>\u001b[0m in \u001b[0;36m<module>\u001b[1;34m\u001b[0m\n\u001b[0;32m     10\u001b[0m \u001b[1;33m\u001b[0m\u001b[0m\n\u001b[0;32m     11\u001b[0m \u001b[1;31m# Extract image URL and hemisphere title for each hemisphere\u001b[0m\u001b[1;33m\u001b[0m\u001b[1;33m\u001b[0m\u001b[1;33m\u001b[0m\u001b[0m\n\u001b[1;32m---> 12\u001b[1;33m \u001b[0mimage_url\u001b[0m \u001b[1;33m=\u001b[0m \u001b[0msoup\u001b[0m\u001b[1;33m.\u001b[0m\u001b[0mfind\u001b[0m\u001b[1;33m(\u001b[0m\u001b[1;34m'img'\u001b[0m\u001b[1;33m,\u001b[0m \u001b[0mclass_\u001b[0m\u001b[1;33m=\u001b[0m\u001b[1;34m\"headerimage fade-in\"\u001b[0m\u001b[1;33m)\u001b[0m\u001b[1;33m.\u001b[0m\u001b[0mget\u001b[0m\u001b[1;33m(\u001b[0m\u001b[1;34m'src'\u001b[0m\u001b[1;33m)\u001b[0m\u001b[1;33m\u001b[0m\u001b[1;33m\u001b[0m\u001b[0m\n\u001b[0m\u001b[0;32m     13\u001b[0m \u001b[0mhemi_title\u001b[0m \u001b[1;33m=\u001b[0m \u001b[0msoup\u001b[0m\u001b[1;33m.\u001b[0m\u001b[0mfind_all\u001b[0m\u001b[1;33m(\u001b[0m\u001b[1;34m'div'\u001b[0m\u001b[1;33m,\u001b[0m \u001b[0mclass_\u001b[0m\u001b[1;33m=\u001b[0m\u001b[1;34m\"cover\"\u001b[0m\u001b[1;33m)\u001b[0m\u001b[1;33m\u001b[0m\u001b[1;33m\u001b[0m\u001b[0m\n\u001b[0;32m     14\u001b[0m \u001b[1;33m\u001b[0m\u001b[0m\n",
      "\u001b[1;31mAttributeError\u001b[0m: 'NoneType' object has no attribute 'get'"
     ]
    }
   ],
   "source": [
    "# URL to scrape Mars Hemispheres\n",
    "hemi_url= \"https://marshemispheres.com\"\n",
    "\n",
    "# Connect to browser to collect html data\n",
    "browser.visit(hemi_url)\n",
    "html=browser.html\n",
    "\n",
    "# Create BeautifulSoup object \n",
    "soup=bs(html, 'html.parser')\n",
    "\n",
    "# Extract image URL and hemisphere title for each hemisphere\n",
    "image_url = soup.find('img', class_=\"headerimage fade-in\").get('src')\n",
    "hemi_title = soup.find_all('div', class_=\"cover\")\n",
    "\n",
    "# Combine url components to print full url string\n",
    "full_image_url = jpl_url + image_url\n",
    "print(full_image_url)"
   ]
  },
  {
   "cell_type": "code",
   "execution_count": null,
   "metadata": {},
   "outputs": [],
   "source": [
    "example: \n",
    "\n",
    "for post in posts: \n",
    "    price = post.find('span', class_='results')\n",
    "    anchor=post.find('a', class_)\n",
    "    title= anchor.text \n",
    "    href=anchor['href']\n",
    "    \n",
    "document = {\n",
    "    'title': title, \n",
    "    'price': price, \n",
    "}\n",
    "db.items.insert_one(document)"
   ]
  },
  {
   "cell_type": "code",
   "execution_count": null,
   "metadata": {},
   "outputs": [],
   "source": [
    "# Connect and create Mongo\n",
    "conn = 'mongodb://localhost:27017'\n",
    "client=pymongo.MongoClient(conn)\n",
    "db=client.mars"
   ]
  },
  {
   "cell_type": "code",
   "execution_count": null,
   "metadata": {},
   "outputs": [],
   "source": []
  }
 ],
 "metadata": {
  "kernelspec": {
   "display_name": "Python [conda env:PythonData] *",
   "language": "python",
   "name": "conda-env-PythonData-py"
  },
  "language_info": {
   "codemirror_mode": {
    "name": "ipython",
    "version": 3
   },
   "file_extension": ".py",
   "mimetype": "text/x-python",
   "name": "python",
   "nbconvert_exporter": "python",
   "pygments_lexer": "ipython3",
   "version": "3.6.10"
  }
 },
 "nbformat": 4,
 "nbformat_minor": 4
}
